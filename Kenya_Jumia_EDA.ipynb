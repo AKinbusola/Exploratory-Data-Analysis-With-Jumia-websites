{
  "nbformat": 4,
  "nbformat_minor": 0,
  "metadata": {
    "colab": {
      "provenance": []
    },
    "kernelspec": {
      "name": "python3",
      "display_name": "Python 3"
    },
    "language_info": {
      "name": "python"
    }
  },
  "cells": [
    {
      "cell_type": "markdown",
      "source": [
        "\n",
        "# Jumia Phones Project.\n",
        "\n",
        "Jumia is one of the largest online shopping website in Africa. In this project, I will web scrape all 50 pages of phones sell on this platform, prepare the data for analysis, and then extract some insights about the phones sell on this platform."
      ],
      "metadata": {
        "id": "MujgjVFbyV2B"
      }
    },
    {
      "cell_type": "markdown",
      "source": [
        "## Scraping the data.\n",
        "\n",
        "I will scrape the data from \"https://www.jumia.co.ke/smartphones/?shipped_from=country_local&page=\".\n",
        "\n",
        "I will scrape from all the webpages from the url"
      ],
      "metadata": {
        "id": "FrLtBfMcynly"
      }
    },
    {
      "cell_type": "code",
      "source": [
        "# Importing required libraries\n",
        "import requests\n",
        "from bs4 import BeautifulSoup as bs"
      ],
      "metadata": {
        "id": "ge2cJyhVy4ey"
      },
      "execution_count": 12,
      "outputs": []
    },
    {
      "cell_type": "code",
      "source": [
        "page = 1\n",
        "names = []\n",
        "prices = []\n",
        "\n",
        "while page != 6:\n",
        "    url = f\"https://www.jumia.co.ke/smartphones/?shipped_from=country_local&page={page}\"\n",
        "    response = requests.get(url)\n",
        "    html = response.content\n",
        "    soup = bs(html, \"lxml\")\n",
        "\n",
        "\n",
        "    for product_block in soup.find_all(\"a\", class_=\"core\"):\n",
        "        name = product_block.find(\"h3\", class_=\"name\").text.strip()\n",
        "        price = product_block.find(\"div\", class_=\"prc\").text.strip()\n",
        "        names.append(name)\n",
        "        prices.append(price)\n",
        "\n",
        "    page = page + 1"
      ],
      "metadata": {
        "id": "0TeEO6gXy935"
      },
      "execution_count": 25,
      "outputs": []
    },
    {
      "cell_type": "code",
      "source": [
        "import pandas as pd"
      ],
      "metadata": {
        "id": "IKK0N_4g09Mt"
      },
      "execution_count": 14,
      "outputs": []
    },
    {
      "cell_type": "code",
      "source": [
        "phone_df = pd.DataFrame({\"Name\": names, \"Price\": prices})"
      ],
      "metadata": {
        "id": "1jaJCpmX061l"
      },
      "execution_count": 27,
      "outputs": []
    },
    {
      "cell_type": "markdown",
      "source": [
        "* Previewing the data"
      ],
      "metadata": {
        "id": "pn6S0Q-o1HDd"
      }
    },
    {
      "cell_type": "code",
      "source": [
        "phone_df.head(10)"
      ],
      "metadata": {
        "colab": {
          "base_uri": "https://localhost:8080/",
          "height": 363
        },
        "id": "MAaSjdeR1E7M",
        "outputId": "e8a62741-9ecb-4dcb-bfac-901d11df6b0e"
      },
      "execution_count": 28,
      "outputs": [
        {
          "output_type": "execute_result",
          "data": {
            "text/plain": [
              "                                                Name       Price\n",
              "0  XIAOMI Redmi A2+, 6.52\", 3GB RAM + 64GB (Dual ...  KSh 11,599\n",
              "1  Oppo A17k, 6.56\", 64GB + 3GB RAM (Dual SIM), 5...  KSh 13,999\n",
              "2  Nokia C32, 64GB + 4GB (Upto 7GB RAM) 5000MAh, ...  KSh 16,320\n",
              "3  Infinix Smart 7 HD, 6.6\", 2GB RAM, 64GB, 5000m...  KSh 10,999\n",
              "4  Oppo A17k, 6.56\", 64GB + 3GB RAM (Dual SIM), 5...  KSh 13,999\n",
              "5  Tecno Pop  7, 6.6\" HD+, 2GB + 64GB, 8MP, 4G (D...  KSh 12,099\n",
              "6  Tecno Spark 10 , 6.6\" FHD,128GB ROM+8GB RAM, 5...  KSh 18,999\n",
              "7  Oppo A18,6.6\",128GB+4GB, 8MP, 90Hz, 5000mAh (D...  KSh 17,999\n",
              "8  Nokia C32, 64GB + 4GB (Upto 7GB RAM) 5000MAh, ...  KSh 16,320\n",
              "9  Samsung Galaxy A14, 6.6\", 128GB + 4GB(Dual SIM...  KSh 23,899"
            ],
            "text/html": [
              "\n",
              "  <div id=\"df-f6cab255-7d1b-4833-82e8-34a718460a6e\" class=\"colab-df-container\">\n",
              "    <div>\n",
              "<style scoped>\n",
              "    .dataframe tbody tr th:only-of-type {\n",
              "        vertical-align: middle;\n",
              "    }\n",
              "\n",
              "    .dataframe tbody tr th {\n",
              "        vertical-align: top;\n",
              "    }\n",
              "\n",
              "    .dataframe thead th {\n",
              "        text-align: right;\n",
              "    }\n",
              "</style>\n",
              "<table border=\"1\" class=\"dataframe\">\n",
              "  <thead>\n",
              "    <tr style=\"text-align: right;\">\n",
              "      <th></th>\n",
              "      <th>Name</th>\n",
              "      <th>Price</th>\n",
              "    </tr>\n",
              "  </thead>\n",
              "  <tbody>\n",
              "    <tr>\n",
              "      <th>0</th>\n",
              "      <td>XIAOMI Redmi A2+, 6.52\", 3GB RAM + 64GB (Dual ...</td>\n",
              "      <td>KSh 11,599</td>\n",
              "    </tr>\n",
              "    <tr>\n",
              "      <th>1</th>\n",
              "      <td>Oppo A17k, 6.56\", 64GB + 3GB RAM (Dual SIM), 5...</td>\n",
              "      <td>KSh 13,999</td>\n",
              "    </tr>\n",
              "    <tr>\n",
              "      <th>2</th>\n",
              "      <td>Nokia C32, 64GB + 4GB (Upto 7GB RAM) 5000MAh, ...</td>\n",
              "      <td>KSh 16,320</td>\n",
              "    </tr>\n",
              "    <tr>\n",
              "      <th>3</th>\n",
              "      <td>Infinix Smart 7 HD, 6.6\", 2GB RAM, 64GB, 5000m...</td>\n",
              "      <td>KSh 10,999</td>\n",
              "    </tr>\n",
              "    <tr>\n",
              "      <th>4</th>\n",
              "      <td>Oppo A17k, 6.56\", 64GB + 3GB RAM (Dual SIM), 5...</td>\n",
              "      <td>KSh 13,999</td>\n",
              "    </tr>\n",
              "    <tr>\n",
              "      <th>5</th>\n",
              "      <td>Tecno Pop  7, 6.6\" HD+, 2GB + 64GB, 8MP, 4G (D...</td>\n",
              "      <td>KSh 12,099</td>\n",
              "    </tr>\n",
              "    <tr>\n",
              "      <th>6</th>\n",
              "      <td>Tecno Spark 10 , 6.6\" FHD,128GB ROM+8GB RAM, 5...</td>\n",
              "      <td>KSh 18,999</td>\n",
              "    </tr>\n",
              "    <tr>\n",
              "      <th>7</th>\n",
              "      <td>Oppo A18,6.6\",128GB+4GB, 8MP, 90Hz, 5000mAh (D...</td>\n",
              "      <td>KSh 17,999</td>\n",
              "    </tr>\n",
              "    <tr>\n",
              "      <th>8</th>\n",
              "      <td>Nokia C32, 64GB + 4GB (Upto 7GB RAM) 5000MAh, ...</td>\n",
              "      <td>KSh 16,320</td>\n",
              "    </tr>\n",
              "    <tr>\n",
              "      <th>9</th>\n",
              "      <td>Samsung Galaxy A14, 6.6\", 128GB + 4GB(Dual SIM...</td>\n",
              "      <td>KSh 23,899</td>\n",
              "    </tr>\n",
              "  </tbody>\n",
              "</table>\n",
              "</div>\n",
              "    <div class=\"colab-df-buttons\">\n",
              "\n",
              "  <div class=\"colab-df-container\">\n",
              "    <button class=\"colab-df-convert\" onclick=\"convertToInteractive('df-f6cab255-7d1b-4833-82e8-34a718460a6e')\"\n",
              "            title=\"Convert this dataframe to an interactive table.\"\n",
              "            style=\"display:none;\">\n",
              "\n",
              "  <svg xmlns=\"http://www.w3.org/2000/svg\" height=\"24px\" viewBox=\"0 -960 960 960\">\n",
              "    <path d=\"M120-120v-720h720v720H120Zm60-500h600v-160H180v160Zm220 220h160v-160H400v160Zm0 220h160v-160H400v160ZM180-400h160v-160H180v160Zm440 0h160v-160H620v160ZM180-180h160v-160H180v160Zm440 0h160v-160H620v160Z\"/>\n",
              "  </svg>\n",
              "    </button>\n",
              "\n",
              "  <style>\n",
              "    .colab-df-container {\n",
              "      display:flex;\n",
              "      gap: 12px;\n",
              "    }\n",
              "\n",
              "    .colab-df-convert {\n",
              "      background-color: #E8F0FE;\n",
              "      border: none;\n",
              "      border-radius: 50%;\n",
              "      cursor: pointer;\n",
              "      display: none;\n",
              "      fill: #1967D2;\n",
              "      height: 32px;\n",
              "      padding: 0 0 0 0;\n",
              "      width: 32px;\n",
              "    }\n",
              "\n",
              "    .colab-df-convert:hover {\n",
              "      background-color: #E2EBFA;\n",
              "      box-shadow: 0px 1px 2px rgba(60, 64, 67, 0.3), 0px 1px 3px 1px rgba(60, 64, 67, 0.15);\n",
              "      fill: #174EA6;\n",
              "    }\n",
              "\n",
              "    .colab-df-buttons div {\n",
              "      margin-bottom: 4px;\n",
              "    }\n",
              "\n",
              "    [theme=dark] .colab-df-convert {\n",
              "      background-color: #3B4455;\n",
              "      fill: #D2E3FC;\n",
              "    }\n",
              "\n",
              "    [theme=dark] .colab-df-convert:hover {\n",
              "      background-color: #434B5C;\n",
              "      box-shadow: 0px 1px 3px 1px rgba(0, 0, 0, 0.15);\n",
              "      filter: drop-shadow(0px 1px 2px rgba(0, 0, 0, 0.3));\n",
              "      fill: #FFFFFF;\n",
              "    }\n",
              "  </style>\n",
              "\n",
              "    <script>\n",
              "      const buttonEl =\n",
              "        document.querySelector('#df-f6cab255-7d1b-4833-82e8-34a718460a6e button.colab-df-convert');\n",
              "      buttonEl.style.display =\n",
              "        google.colab.kernel.accessAllowed ? 'block' : 'none';\n",
              "\n",
              "      async function convertToInteractive(key) {\n",
              "        const element = document.querySelector('#df-f6cab255-7d1b-4833-82e8-34a718460a6e');\n",
              "        const dataTable =\n",
              "          await google.colab.kernel.invokeFunction('convertToInteractive',\n",
              "                                                    [key], {});\n",
              "        if (!dataTable) return;\n",
              "\n",
              "        const docLinkHtml = 'Like what you see? Visit the ' +\n",
              "          '<a target=\"_blank\" href=https://colab.research.google.com/notebooks/data_table.ipynb>data table notebook</a>'\n",
              "          + ' to learn more about interactive tables.';\n",
              "        element.innerHTML = '';\n",
              "        dataTable['output_type'] = 'display_data';\n",
              "        await google.colab.output.renderOutput(dataTable, element);\n",
              "        const docLink = document.createElement('div');\n",
              "        docLink.innerHTML = docLinkHtml;\n",
              "        element.appendChild(docLink);\n",
              "      }\n",
              "    </script>\n",
              "  </div>\n",
              "\n",
              "\n",
              "<div id=\"df-c05b8eef-181f-43b0-b899-ac0e4d07353c\">\n",
              "  <button class=\"colab-df-quickchart\" onclick=\"quickchart('df-c05b8eef-181f-43b0-b899-ac0e4d07353c')\"\n",
              "            title=\"Suggest charts\"\n",
              "            style=\"display:none;\">\n",
              "\n",
              "<svg xmlns=\"http://www.w3.org/2000/svg\" height=\"24px\"viewBox=\"0 0 24 24\"\n",
              "     width=\"24px\">\n",
              "    <g>\n",
              "        <path d=\"M19 3H5c-1.1 0-2 .9-2 2v14c0 1.1.9 2 2 2h14c1.1 0 2-.9 2-2V5c0-1.1-.9-2-2-2zM9 17H7v-7h2v7zm4 0h-2V7h2v10zm4 0h-2v-4h2v4z\"/>\n",
              "    </g>\n",
              "</svg>\n",
              "  </button>\n",
              "\n",
              "<style>\n",
              "  .colab-df-quickchart {\n",
              "      --bg-color: #E8F0FE;\n",
              "      --fill-color: #1967D2;\n",
              "      --hover-bg-color: #E2EBFA;\n",
              "      --hover-fill-color: #174EA6;\n",
              "      --disabled-fill-color: #AAA;\n",
              "      --disabled-bg-color: #DDD;\n",
              "  }\n",
              "\n",
              "  [theme=dark] .colab-df-quickchart {\n",
              "      --bg-color: #3B4455;\n",
              "      --fill-color: #D2E3FC;\n",
              "      --hover-bg-color: #434B5C;\n",
              "      --hover-fill-color: #FFFFFF;\n",
              "      --disabled-bg-color: #3B4455;\n",
              "      --disabled-fill-color: #666;\n",
              "  }\n",
              "\n",
              "  .colab-df-quickchart {\n",
              "    background-color: var(--bg-color);\n",
              "    border: none;\n",
              "    border-radius: 50%;\n",
              "    cursor: pointer;\n",
              "    display: none;\n",
              "    fill: var(--fill-color);\n",
              "    height: 32px;\n",
              "    padding: 0;\n",
              "    width: 32px;\n",
              "  }\n",
              "\n",
              "  .colab-df-quickchart:hover {\n",
              "    background-color: var(--hover-bg-color);\n",
              "    box-shadow: 0 1px 2px rgba(60, 64, 67, 0.3), 0 1px 3px 1px rgba(60, 64, 67, 0.15);\n",
              "    fill: var(--button-hover-fill-color);\n",
              "  }\n",
              "\n",
              "  .colab-df-quickchart-complete:disabled,\n",
              "  .colab-df-quickchart-complete:disabled:hover {\n",
              "    background-color: var(--disabled-bg-color);\n",
              "    fill: var(--disabled-fill-color);\n",
              "    box-shadow: none;\n",
              "  }\n",
              "\n",
              "  .colab-df-spinner {\n",
              "    border: 2px solid var(--fill-color);\n",
              "    border-color: transparent;\n",
              "    border-bottom-color: var(--fill-color);\n",
              "    animation:\n",
              "      spin 1s steps(1) infinite;\n",
              "  }\n",
              "\n",
              "  @keyframes spin {\n",
              "    0% {\n",
              "      border-color: transparent;\n",
              "      border-bottom-color: var(--fill-color);\n",
              "      border-left-color: var(--fill-color);\n",
              "    }\n",
              "    20% {\n",
              "      border-color: transparent;\n",
              "      border-left-color: var(--fill-color);\n",
              "      border-top-color: var(--fill-color);\n",
              "    }\n",
              "    30% {\n",
              "      border-color: transparent;\n",
              "      border-left-color: var(--fill-color);\n",
              "      border-top-color: var(--fill-color);\n",
              "      border-right-color: var(--fill-color);\n",
              "    }\n",
              "    40% {\n",
              "      border-color: transparent;\n",
              "      border-right-color: var(--fill-color);\n",
              "      border-top-color: var(--fill-color);\n",
              "    }\n",
              "    60% {\n",
              "      border-color: transparent;\n",
              "      border-right-color: var(--fill-color);\n",
              "    }\n",
              "    80% {\n",
              "      border-color: transparent;\n",
              "      border-right-color: var(--fill-color);\n",
              "      border-bottom-color: var(--fill-color);\n",
              "    }\n",
              "    90% {\n",
              "      border-color: transparent;\n",
              "      border-bottom-color: var(--fill-color);\n",
              "    }\n",
              "  }\n",
              "</style>\n",
              "\n",
              "  <script>\n",
              "    async function quickchart(key) {\n",
              "      const quickchartButtonEl =\n",
              "        document.querySelector('#' + key + ' button');\n",
              "      quickchartButtonEl.disabled = true;  // To prevent multiple clicks.\n",
              "      quickchartButtonEl.classList.add('colab-df-spinner');\n",
              "      try {\n",
              "        const charts = await google.colab.kernel.invokeFunction(\n",
              "            'suggestCharts', [key], {});\n",
              "      } catch (error) {\n",
              "        console.error('Error during call to suggestCharts:', error);\n",
              "      }\n",
              "      quickchartButtonEl.classList.remove('colab-df-spinner');\n",
              "      quickchartButtonEl.classList.add('colab-df-quickchart-complete');\n",
              "    }\n",
              "    (() => {\n",
              "      let quickchartButtonEl =\n",
              "        document.querySelector('#df-c05b8eef-181f-43b0-b899-ac0e4d07353c button');\n",
              "      quickchartButtonEl.style.display =\n",
              "        google.colab.kernel.accessAllowed ? 'block' : 'none';\n",
              "    })();\n",
              "  </script>\n",
              "</div>\n",
              "    </div>\n",
              "  </div>\n"
            ]
          },
          "metadata": {},
          "execution_count": 28
        }
      ]
    },
    {
      "cell_type": "code",
      "source": [
        "phone_df.dtypes"
      ],
      "metadata": {
        "colab": {
          "base_uri": "https://localhost:8080/"
        },
        "id": "g_xQz5BD1O52",
        "outputId": "fe7efcc6-142c-47de-dfa8-46c322a2c5f8"
      },
      "execution_count": 17,
      "outputs": [
        {
          "output_type": "execute_result",
          "data": {
            "text/plain": [
              "Name     object\n",
              "Price    object\n",
              "dtype: object"
            ]
          },
          "metadata": {},
          "execution_count": 17
        }
      ]
    },
    {
      "cell_type": "markdown",
      "source": [
        "* Checking for NA in dataset"
      ],
      "metadata": {
        "id": "-m8rPo3O1WC7"
      }
    },
    {
      "cell_type": "code",
      "source": [
        "phone_df.isnull().sum()"
      ],
      "metadata": {
        "colab": {
          "base_uri": "https://localhost:8080/"
        },
        "id": "MCvOvO5q1Tsl",
        "outputId": "514e0d79-3850-4bc9-d3e1-10281ca5f55c"
      },
      "execution_count": 29,
      "outputs": [
        {
          "output_type": "execute_result",
          "data": {
            "text/plain": [
              "Name     0\n",
              "Price    0\n",
              "dtype: int64"
            ]
          },
          "metadata": {},
          "execution_count": 29
        }
      ]
    },
    {
      "cell_type": "markdown",
      "source": [
        "* Checking for duplicates in the dataset"
      ],
      "metadata": {
        "id": "VK6Xov5N1fkX"
      }
    },
    {
      "cell_type": "code",
      "source": [
        "phone_df.duplicated().sum()"
      ],
      "metadata": {
        "colab": {
          "base_uri": "https://localhost:8080/"
        },
        "id": "SmonWCnr1ePz",
        "outputId": "55d2ee0e-00be-4f0c-b31c-4dc02c9b502a"
      },
      "execution_count": 30,
      "outputs": [
        {
          "output_type": "execute_result",
          "data": {
            "text/plain": [
              "1"
            ]
          },
          "metadata": {},
          "execution_count": 30
        }
      ]
    },
    {
      "cell_type": "markdown",
      "source": [
        "* There is only one duplicate as at this time. I will remove the duplicate."
      ],
      "metadata": {
        "id": "hFrvdJ0F1-Th"
      }
    },
    {
      "cell_type": "code",
      "source": [
        "phone_df=phone_df.drop_duplicates()"
      ],
      "metadata": {
        "id": "gq9xCtDj2LGV"
      },
      "execution_count": 31,
      "outputs": []
    },
    {
      "cell_type": "code",
      "source": [
        "phone_df.duplicated().sum()"
      ],
      "metadata": {
        "colab": {
          "base_uri": "https://localhost:8080/"
        },
        "id": "0RdC0Piw2Qfg",
        "outputId": "11728ba4-8b99-474f-a96b-028adef45235"
      },
      "execution_count": 32,
      "outputs": [
        {
          "output_type": "execute_result",
          "data": {
            "text/plain": [
              "0"
            ]
          },
          "metadata": {},
          "execution_count": 32
        }
      ]
    },
    {
      "cell_type": "markdown",
      "source": [
        "* I will convert the price column to numeric to be able to perform some manipulations and analysis. To do this, I will need to remove the Money symbol."
      ],
      "metadata": {
        "id": "vNgICyF32YiH"
      }
    },
    {
      "cell_type": "code",
      "source": [
        "phone_df['Price'] = phone_df['Price'].str.replace('KSh', '').str.replace(',', '')\n",
        "phone_df['Price'] = pd.to_numeric(phone_df['Price'])\n",
        "\n",
        "phone_df.head()"
      ],
      "metadata": {
        "colab": {
          "base_uri": "https://localhost:8080/",
          "height": 206
        },
        "id": "sGgN0Hyf2Xin",
        "outputId": "ebe5eb46-6cf9-4b97-b639-e00b1d118b75"
      },
      "execution_count": 33,
      "outputs": [
        {
          "output_type": "execute_result",
          "data": {
            "text/plain": [
              "                                                Name  Price\n",
              "0  XIAOMI Redmi A2+, 6.52\", 3GB RAM + 64GB (Dual ...  11599\n",
              "1  Oppo A17k, 6.56\", 64GB + 3GB RAM (Dual SIM), 5...  13999\n",
              "2  Nokia C32, 64GB + 4GB (Upto 7GB RAM) 5000MAh, ...  16320\n",
              "3  Infinix Smart 7 HD, 6.6\", 2GB RAM, 64GB, 5000m...  10999\n",
              "4  Oppo A17k, 6.56\", 64GB + 3GB RAM (Dual SIM), 5...  13999"
            ],
            "text/html": [
              "\n",
              "  <div id=\"df-1958799a-8e85-4f25-9385-43cdb0bfbe49\" class=\"colab-df-container\">\n",
              "    <div>\n",
              "<style scoped>\n",
              "    .dataframe tbody tr th:only-of-type {\n",
              "        vertical-align: middle;\n",
              "    }\n",
              "\n",
              "    .dataframe tbody tr th {\n",
              "        vertical-align: top;\n",
              "    }\n",
              "\n",
              "    .dataframe thead th {\n",
              "        text-align: right;\n",
              "    }\n",
              "</style>\n",
              "<table border=\"1\" class=\"dataframe\">\n",
              "  <thead>\n",
              "    <tr style=\"text-align: right;\">\n",
              "      <th></th>\n",
              "      <th>Name</th>\n",
              "      <th>Price</th>\n",
              "    </tr>\n",
              "  </thead>\n",
              "  <tbody>\n",
              "    <tr>\n",
              "      <th>0</th>\n",
              "      <td>XIAOMI Redmi A2+, 6.52\", 3GB RAM + 64GB (Dual ...</td>\n",
              "      <td>11599</td>\n",
              "    </tr>\n",
              "    <tr>\n",
              "      <th>1</th>\n",
              "      <td>Oppo A17k, 6.56\", 64GB + 3GB RAM (Dual SIM), 5...</td>\n",
              "      <td>13999</td>\n",
              "    </tr>\n",
              "    <tr>\n",
              "      <th>2</th>\n",
              "      <td>Nokia C32, 64GB + 4GB (Upto 7GB RAM) 5000MAh, ...</td>\n",
              "      <td>16320</td>\n",
              "    </tr>\n",
              "    <tr>\n",
              "      <th>3</th>\n",
              "      <td>Infinix Smart 7 HD, 6.6\", 2GB RAM, 64GB, 5000m...</td>\n",
              "      <td>10999</td>\n",
              "    </tr>\n",
              "    <tr>\n",
              "      <th>4</th>\n",
              "      <td>Oppo A17k, 6.56\", 64GB + 3GB RAM (Dual SIM), 5...</td>\n",
              "      <td>13999</td>\n",
              "    </tr>\n",
              "  </tbody>\n",
              "</table>\n",
              "</div>\n",
              "    <div class=\"colab-df-buttons\">\n",
              "\n",
              "  <div class=\"colab-df-container\">\n",
              "    <button class=\"colab-df-convert\" onclick=\"convertToInteractive('df-1958799a-8e85-4f25-9385-43cdb0bfbe49')\"\n",
              "            title=\"Convert this dataframe to an interactive table.\"\n",
              "            style=\"display:none;\">\n",
              "\n",
              "  <svg xmlns=\"http://www.w3.org/2000/svg\" height=\"24px\" viewBox=\"0 -960 960 960\">\n",
              "    <path d=\"M120-120v-720h720v720H120Zm60-500h600v-160H180v160Zm220 220h160v-160H400v160Zm0 220h160v-160H400v160ZM180-400h160v-160H180v160Zm440 0h160v-160H620v160ZM180-180h160v-160H180v160Zm440 0h160v-160H620v160Z\"/>\n",
              "  </svg>\n",
              "    </button>\n",
              "\n",
              "  <style>\n",
              "    .colab-df-container {\n",
              "      display:flex;\n",
              "      gap: 12px;\n",
              "    }\n",
              "\n",
              "    .colab-df-convert {\n",
              "      background-color: #E8F0FE;\n",
              "      border: none;\n",
              "      border-radius: 50%;\n",
              "      cursor: pointer;\n",
              "      display: none;\n",
              "      fill: #1967D2;\n",
              "      height: 32px;\n",
              "      padding: 0 0 0 0;\n",
              "      width: 32px;\n",
              "    }\n",
              "\n",
              "    .colab-df-convert:hover {\n",
              "      background-color: #E2EBFA;\n",
              "      box-shadow: 0px 1px 2px rgba(60, 64, 67, 0.3), 0px 1px 3px 1px rgba(60, 64, 67, 0.15);\n",
              "      fill: #174EA6;\n",
              "    }\n",
              "\n",
              "    .colab-df-buttons div {\n",
              "      margin-bottom: 4px;\n",
              "    }\n",
              "\n",
              "    [theme=dark] .colab-df-convert {\n",
              "      background-color: #3B4455;\n",
              "      fill: #D2E3FC;\n",
              "    }\n",
              "\n",
              "    [theme=dark] .colab-df-convert:hover {\n",
              "      background-color: #434B5C;\n",
              "      box-shadow: 0px 1px 3px 1px rgba(0, 0, 0, 0.15);\n",
              "      filter: drop-shadow(0px 1px 2px rgba(0, 0, 0, 0.3));\n",
              "      fill: #FFFFFF;\n",
              "    }\n",
              "  </style>\n",
              "\n",
              "    <script>\n",
              "      const buttonEl =\n",
              "        document.querySelector('#df-1958799a-8e85-4f25-9385-43cdb0bfbe49 button.colab-df-convert');\n",
              "      buttonEl.style.display =\n",
              "        google.colab.kernel.accessAllowed ? 'block' : 'none';\n",
              "\n",
              "      async function convertToInteractive(key) {\n",
              "        const element = document.querySelector('#df-1958799a-8e85-4f25-9385-43cdb0bfbe49');\n",
              "        const dataTable =\n",
              "          await google.colab.kernel.invokeFunction('convertToInteractive',\n",
              "                                                    [key], {});\n",
              "        if (!dataTable) return;\n",
              "\n",
              "        const docLinkHtml = 'Like what you see? Visit the ' +\n",
              "          '<a target=\"_blank\" href=https://colab.research.google.com/notebooks/data_table.ipynb>data table notebook</a>'\n",
              "          + ' to learn more about interactive tables.';\n",
              "        element.innerHTML = '';\n",
              "        dataTable['output_type'] = 'display_data';\n",
              "        await google.colab.output.renderOutput(dataTable, element);\n",
              "        const docLink = document.createElement('div');\n",
              "        docLink.innerHTML = docLinkHtml;\n",
              "        element.appendChild(docLink);\n",
              "      }\n",
              "    </script>\n",
              "  </div>\n",
              "\n",
              "\n",
              "<div id=\"df-df3a53d1-adee-4024-8b57-288570d3fc34\">\n",
              "  <button class=\"colab-df-quickchart\" onclick=\"quickchart('df-df3a53d1-adee-4024-8b57-288570d3fc34')\"\n",
              "            title=\"Suggest charts\"\n",
              "            style=\"display:none;\">\n",
              "\n",
              "<svg xmlns=\"http://www.w3.org/2000/svg\" height=\"24px\"viewBox=\"0 0 24 24\"\n",
              "     width=\"24px\">\n",
              "    <g>\n",
              "        <path d=\"M19 3H5c-1.1 0-2 .9-2 2v14c0 1.1.9 2 2 2h14c1.1 0 2-.9 2-2V5c0-1.1-.9-2-2-2zM9 17H7v-7h2v7zm4 0h-2V7h2v10zm4 0h-2v-4h2v4z\"/>\n",
              "    </g>\n",
              "</svg>\n",
              "  </button>\n",
              "\n",
              "<style>\n",
              "  .colab-df-quickchart {\n",
              "      --bg-color: #E8F0FE;\n",
              "      --fill-color: #1967D2;\n",
              "      --hover-bg-color: #E2EBFA;\n",
              "      --hover-fill-color: #174EA6;\n",
              "      --disabled-fill-color: #AAA;\n",
              "      --disabled-bg-color: #DDD;\n",
              "  }\n",
              "\n",
              "  [theme=dark] .colab-df-quickchart {\n",
              "      --bg-color: #3B4455;\n",
              "      --fill-color: #D2E3FC;\n",
              "      --hover-bg-color: #434B5C;\n",
              "      --hover-fill-color: #FFFFFF;\n",
              "      --disabled-bg-color: #3B4455;\n",
              "      --disabled-fill-color: #666;\n",
              "  }\n",
              "\n",
              "  .colab-df-quickchart {\n",
              "    background-color: var(--bg-color);\n",
              "    border: none;\n",
              "    border-radius: 50%;\n",
              "    cursor: pointer;\n",
              "    display: none;\n",
              "    fill: var(--fill-color);\n",
              "    height: 32px;\n",
              "    padding: 0;\n",
              "    width: 32px;\n",
              "  }\n",
              "\n",
              "  .colab-df-quickchart:hover {\n",
              "    background-color: var(--hover-bg-color);\n",
              "    box-shadow: 0 1px 2px rgba(60, 64, 67, 0.3), 0 1px 3px 1px rgba(60, 64, 67, 0.15);\n",
              "    fill: var(--button-hover-fill-color);\n",
              "  }\n",
              "\n",
              "  .colab-df-quickchart-complete:disabled,\n",
              "  .colab-df-quickchart-complete:disabled:hover {\n",
              "    background-color: var(--disabled-bg-color);\n",
              "    fill: var(--disabled-fill-color);\n",
              "    box-shadow: none;\n",
              "  }\n",
              "\n",
              "  .colab-df-spinner {\n",
              "    border: 2px solid var(--fill-color);\n",
              "    border-color: transparent;\n",
              "    border-bottom-color: var(--fill-color);\n",
              "    animation:\n",
              "      spin 1s steps(1) infinite;\n",
              "  }\n",
              "\n",
              "  @keyframes spin {\n",
              "    0% {\n",
              "      border-color: transparent;\n",
              "      border-bottom-color: var(--fill-color);\n",
              "      border-left-color: var(--fill-color);\n",
              "    }\n",
              "    20% {\n",
              "      border-color: transparent;\n",
              "      border-left-color: var(--fill-color);\n",
              "      border-top-color: var(--fill-color);\n",
              "    }\n",
              "    30% {\n",
              "      border-color: transparent;\n",
              "      border-left-color: var(--fill-color);\n",
              "      border-top-color: var(--fill-color);\n",
              "      border-right-color: var(--fill-color);\n",
              "    }\n",
              "    40% {\n",
              "      border-color: transparent;\n",
              "      border-right-color: var(--fill-color);\n",
              "      border-top-color: var(--fill-color);\n",
              "    }\n",
              "    60% {\n",
              "      border-color: transparent;\n",
              "      border-right-color: var(--fill-color);\n",
              "    }\n",
              "    80% {\n",
              "      border-color: transparent;\n",
              "      border-right-color: var(--fill-color);\n",
              "      border-bottom-color: var(--fill-color);\n",
              "    }\n",
              "    90% {\n",
              "      border-color: transparent;\n",
              "      border-bottom-color: var(--fill-color);\n",
              "    }\n",
              "  }\n",
              "</style>\n",
              "\n",
              "  <script>\n",
              "    async function quickchart(key) {\n",
              "      const quickchartButtonEl =\n",
              "        document.querySelector('#' + key + ' button');\n",
              "      quickchartButtonEl.disabled = true;  // To prevent multiple clicks.\n",
              "      quickchartButtonEl.classList.add('colab-df-spinner');\n",
              "      try {\n",
              "        const charts = await google.colab.kernel.invokeFunction(\n",
              "            'suggestCharts', [key], {});\n",
              "      } catch (error) {\n",
              "        console.error('Error during call to suggestCharts:', error);\n",
              "      }\n",
              "      quickchartButtonEl.classList.remove('colab-df-spinner');\n",
              "      quickchartButtonEl.classList.add('colab-df-quickchart-complete');\n",
              "    }\n",
              "    (() => {\n",
              "      let quickchartButtonEl =\n",
              "        document.querySelector('#df-df3a53d1-adee-4024-8b57-288570d3fc34 button');\n",
              "      quickchartButtonEl.style.display =\n",
              "        google.colab.kernel.accessAllowed ? 'block' : 'none';\n",
              "    })();\n",
              "  </script>\n",
              "</div>\n",
              "    </div>\n",
              "  </div>\n"
            ]
          },
          "metadata": {},
          "execution_count": 33
        }
      ]
    },
    {
      "cell_type": "code",
      "source": [
        "phone_df.min()"
      ],
      "metadata": {
        "colab": {
          "base_uri": "https://localhost:8080/"
        },
        "id": "MgZx42ku3dRt",
        "outputId": "db56a467-d6ff-44dc-af53-f0a00630fc13"
      },
      "execution_count": 34,
      "outputs": [
        {
          "output_type": "execute_result",
          "data": {
            "text/plain": [
              "Name     Badili - Oppo A15s (Renewed), 6.52\",128GB + 6G...\n",
              "Price                                                 1399\n",
              "dtype: object"
            ]
          },
          "metadata": {},
          "execution_count": 34
        }
      ]
    },
    {
      "cell_type": "markdown",
      "source": [],
      "metadata": {
        "id": "T_hEU_493btg"
      }
    },
    {
      "cell_type": "markdown",
      "source": [
        "In this project, I want to only do analysis on phones and not accessory. I will assume that any price less than KSH 6000 is accessory."
      ],
      "metadata": {
        "id": "Ijsfl6zb3kol"
      }
    },
    {
      "cell_type": "code",
      "source": [
        "accessories = phone_df[phone_df['Price'] < 6300]\n",
        "phone_df=phone_df[phone_df['Price'] >= 6300]"
      ],
      "metadata": {
        "id": "8nml3-tq2mb-"
      },
      "execution_count": 36,
      "outputs": []
    },
    {
      "cell_type": "markdown",
      "source": [
        "* I will extract  more feature from the Name column using Natural Language Processing.\n",
        "\n",
        "* I will extract the brand.\n"
      ],
      "metadata": {
        "id": "CVzwyqRZ5XU3"
      }
    },
    {
      "cell_type": "code",
      "source": [
        "from nltk.tokenize import word_tokenize #to create word tokens\n",
        "import nltk\n",
        "nltk.download('punkt')\n",
        "import re"
      ],
      "metadata": {
        "colab": {
          "base_uri": "https://localhost:8080/"
        },
        "id": "lIxABw9R5uEX",
        "outputId": "5aaba8f3-45d9-4c98-81b9-47e459af3547"
      },
      "execution_count": 50,
      "outputs": [
        {
          "output_type": "stream",
          "name": "stderr",
          "text": [
            "[nltk_data] Downloading package punkt to /root/nltk_data...\n",
            "[nltk_data]   Package punkt is already up-to-date!\n"
          ]
        }
      ]
    },
    {
      "cell_type": "code",
      "source": [
        "phone_brands = ['infinix', 'xiaomi', 'tecno', 'samsung', 'oppo', 'apple',\n",
        "                'blackview', 'vivo', 'huawei', 'itel', 'realme', 'nokia',\n",
        "                'x tigi', 'poco', 'one plus', 'freeyond', 'maxfone', 'umidigi','sowhat',\n",
        "                'oale','safaricom']\n",
        "def getbrand(name):\n",
        "    name = name.lower()\n",
        "    word_tokens = word_tokenize(name)\n",
        "    brand = [char for char in word_tokens if char in phone_brands]\n",
        "    return ''.join(brand)"
      ],
      "metadata": {
        "id": "8t4ypYFG4awm"
      },
      "execution_count": 42,
      "outputs": []
    },
    {
      "cell_type": "code",
      "source": [
        "phone_df['Brand']= phone_df['Name'].apply(getbrand)"
      ],
      "metadata": {
        "id": "1rhRZZeP6IPn"
      },
      "execution_count": 43,
      "outputs": []
    },
    {
      "cell_type": "code",
      "source": [
        "phone_df.head()"
      ],
      "metadata": {
        "colab": {
          "base_uri": "https://localhost:8080/",
          "height": 206
        },
        "id": "c0dGgm516M5U",
        "outputId": "816ab7d9-f50c-47d6-92f2-a41221a5cc53"
      },
      "execution_count": 44,
      "outputs": [
        {
          "output_type": "execute_result",
          "data": {
            "text/plain": [
              "                                                Name  Price    Brand\n",
              "0  XIAOMI Redmi A2+, 6.52\", 3GB RAM + 64GB (Dual ...  11599   xiaomi\n",
              "1  Oppo A17k, 6.56\", 64GB + 3GB RAM (Dual SIM), 5...  13999     oppo\n",
              "2  Nokia C32, 64GB + 4GB (Upto 7GB RAM) 5000MAh, ...  16320    nokia\n",
              "3  Infinix Smart 7 HD, 6.6\", 2GB RAM, 64GB, 5000m...  10999  infinix\n",
              "4  Oppo A17k, 6.56\", 64GB + 3GB RAM (Dual SIM), 5...  13999     oppo"
            ],
            "text/html": [
              "\n",
              "  <div id=\"df-a0a9b528-ef18-4d84-a283-3d0e0bf574b6\" class=\"colab-df-container\">\n",
              "    <div>\n",
              "<style scoped>\n",
              "    .dataframe tbody tr th:only-of-type {\n",
              "        vertical-align: middle;\n",
              "    }\n",
              "\n",
              "    .dataframe tbody tr th {\n",
              "        vertical-align: top;\n",
              "    }\n",
              "\n",
              "    .dataframe thead th {\n",
              "        text-align: right;\n",
              "    }\n",
              "</style>\n",
              "<table border=\"1\" class=\"dataframe\">\n",
              "  <thead>\n",
              "    <tr style=\"text-align: right;\">\n",
              "      <th></th>\n",
              "      <th>Name</th>\n",
              "      <th>Price</th>\n",
              "      <th>Brand</th>\n",
              "    </tr>\n",
              "  </thead>\n",
              "  <tbody>\n",
              "    <tr>\n",
              "      <th>0</th>\n",
              "      <td>XIAOMI Redmi A2+, 6.52\", 3GB RAM + 64GB (Dual ...</td>\n",
              "      <td>11599</td>\n",
              "      <td>xiaomi</td>\n",
              "    </tr>\n",
              "    <tr>\n",
              "      <th>1</th>\n",
              "      <td>Oppo A17k, 6.56\", 64GB + 3GB RAM (Dual SIM), 5...</td>\n",
              "      <td>13999</td>\n",
              "      <td>oppo</td>\n",
              "    </tr>\n",
              "    <tr>\n",
              "      <th>2</th>\n",
              "      <td>Nokia C32, 64GB + 4GB (Upto 7GB RAM) 5000MAh, ...</td>\n",
              "      <td>16320</td>\n",
              "      <td>nokia</td>\n",
              "    </tr>\n",
              "    <tr>\n",
              "      <th>3</th>\n",
              "      <td>Infinix Smart 7 HD, 6.6\", 2GB RAM, 64GB, 5000m...</td>\n",
              "      <td>10999</td>\n",
              "      <td>infinix</td>\n",
              "    </tr>\n",
              "    <tr>\n",
              "      <th>4</th>\n",
              "      <td>Oppo A17k, 6.56\", 64GB + 3GB RAM (Dual SIM), 5...</td>\n",
              "      <td>13999</td>\n",
              "      <td>oppo</td>\n",
              "    </tr>\n",
              "  </tbody>\n",
              "</table>\n",
              "</div>\n",
              "    <div class=\"colab-df-buttons\">\n",
              "\n",
              "  <div class=\"colab-df-container\">\n",
              "    <button class=\"colab-df-convert\" onclick=\"convertToInteractive('df-a0a9b528-ef18-4d84-a283-3d0e0bf574b6')\"\n",
              "            title=\"Convert this dataframe to an interactive table.\"\n",
              "            style=\"display:none;\">\n",
              "\n",
              "  <svg xmlns=\"http://www.w3.org/2000/svg\" height=\"24px\" viewBox=\"0 -960 960 960\">\n",
              "    <path d=\"M120-120v-720h720v720H120Zm60-500h600v-160H180v160Zm220 220h160v-160H400v160Zm0 220h160v-160H400v160ZM180-400h160v-160H180v160Zm440 0h160v-160H620v160ZM180-180h160v-160H180v160Zm440 0h160v-160H620v160Z\"/>\n",
              "  </svg>\n",
              "    </button>\n",
              "\n",
              "  <style>\n",
              "    .colab-df-container {\n",
              "      display:flex;\n",
              "      gap: 12px;\n",
              "    }\n",
              "\n",
              "    .colab-df-convert {\n",
              "      background-color: #E8F0FE;\n",
              "      border: none;\n",
              "      border-radius: 50%;\n",
              "      cursor: pointer;\n",
              "      display: none;\n",
              "      fill: #1967D2;\n",
              "      height: 32px;\n",
              "      padding: 0 0 0 0;\n",
              "      width: 32px;\n",
              "    }\n",
              "\n",
              "    .colab-df-convert:hover {\n",
              "      background-color: #E2EBFA;\n",
              "      box-shadow: 0px 1px 2px rgba(60, 64, 67, 0.3), 0px 1px 3px 1px rgba(60, 64, 67, 0.15);\n",
              "      fill: #174EA6;\n",
              "    }\n",
              "\n",
              "    .colab-df-buttons div {\n",
              "      margin-bottom: 4px;\n",
              "    }\n",
              "\n",
              "    [theme=dark] .colab-df-convert {\n",
              "      background-color: #3B4455;\n",
              "      fill: #D2E3FC;\n",
              "    }\n",
              "\n",
              "    [theme=dark] .colab-df-convert:hover {\n",
              "      background-color: #434B5C;\n",
              "      box-shadow: 0px 1px 3px 1px rgba(0, 0, 0, 0.15);\n",
              "      filter: drop-shadow(0px 1px 2px rgba(0, 0, 0, 0.3));\n",
              "      fill: #FFFFFF;\n",
              "    }\n",
              "  </style>\n",
              "\n",
              "    <script>\n",
              "      const buttonEl =\n",
              "        document.querySelector('#df-a0a9b528-ef18-4d84-a283-3d0e0bf574b6 button.colab-df-convert');\n",
              "      buttonEl.style.display =\n",
              "        google.colab.kernel.accessAllowed ? 'block' : 'none';\n",
              "\n",
              "      async function convertToInteractive(key) {\n",
              "        const element = document.querySelector('#df-a0a9b528-ef18-4d84-a283-3d0e0bf574b6');\n",
              "        const dataTable =\n",
              "          await google.colab.kernel.invokeFunction('convertToInteractive',\n",
              "                                                    [key], {});\n",
              "        if (!dataTable) return;\n",
              "\n",
              "        const docLinkHtml = 'Like what you see? Visit the ' +\n",
              "          '<a target=\"_blank\" href=https://colab.research.google.com/notebooks/data_table.ipynb>data table notebook</a>'\n",
              "          + ' to learn more about interactive tables.';\n",
              "        element.innerHTML = '';\n",
              "        dataTable['output_type'] = 'display_data';\n",
              "        await google.colab.output.renderOutput(dataTable, element);\n",
              "        const docLink = document.createElement('div');\n",
              "        docLink.innerHTML = docLinkHtml;\n",
              "        element.appendChild(docLink);\n",
              "      }\n",
              "    </script>\n",
              "  </div>\n",
              "\n",
              "\n",
              "<div id=\"df-0efe999d-667f-4524-b630-e2e162ee3ce4\">\n",
              "  <button class=\"colab-df-quickchart\" onclick=\"quickchart('df-0efe999d-667f-4524-b630-e2e162ee3ce4')\"\n",
              "            title=\"Suggest charts\"\n",
              "            style=\"display:none;\">\n",
              "\n",
              "<svg xmlns=\"http://www.w3.org/2000/svg\" height=\"24px\"viewBox=\"0 0 24 24\"\n",
              "     width=\"24px\">\n",
              "    <g>\n",
              "        <path d=\"M19 3H5c-1.1 0-2 .9-2 2v14c0 1.1.9 2 2 2h14c1.1 0 2-.9 2-2V5c0-1.1-.9-2-2-2zM9 17H7v-7h2v7zm4 0h-2V7h2v10zm4 0h-2v-4h2v4z\"/>\n",
              "    </g>\n",
              "</svg>\n",
              "  </button>\n",
              "\n",
              "<style>\n",
              "  .colab-df-quickchart {\n",
              "      --bg-color: #E8F0FE;\n",
              "      --fill-color: #1967D2;\n",
              "      --hover-bg-color: #E2EBFA;\n",
              "      --hover-fill-color: #174EA6;\n",
              "      --disabled-fill-color: #AAA;\n",
              "      --disabled-bg-color: #DDD;\n",
              "  }\n",
              "\n",
              "  [theme=dark] .colab-df-quickchart {\n",
              "      --bg-color: #3B4455;\n",
              "      --fill-color: #D2E3FC;\n",
              "      --hover-bg-color: #434B5C;\n",
              "      --hover-fill-color: #FFFFFF;\n",
              "      --disabled-bg-color: #3B4455;\n",
              "      --disabled-fill-color: #666;\n",
              "  }\n",
              "\n",
              "  .colab-df-quickchart {\n",
              "    background-color: var(--bg-color);\n",
              "    border: none;\n",
              "    border-radius: 50%;\n",
              "    cursor: pointer;\n",
              "    display: none;\n",
              "    fill: var(--fill-color);\n",
              "    height: 32px;\n",
              "    padding: 0;\n",
              "    width: 32px;\n",
              "  }\n",
              "\n",
              "  .colab-df-quickchart:hover {\n",
              "    background-color: var(--hover-bg-color);\n",
              "    box-shadow: 0 1px 2px rgba(60, 64, 67, 0.3), 0 1px 3px 1px rgba(60, 64, 67, 0.15);\n",
              "    fill: var(--button-hover-fill-color);\n",
              "  }\n",
              "\n",
              "  .colab-df-quickchart-complete:disabled,\n",
              "  .colab-df-quickchart-complete:disabled:hover {\n",
              "    background-color: var(--disabled-bg-color);\n",
              "    fill: var(--disabled-fill-color);\n",
              "    box-shadow: none;\n",
              "  }\n",
              "\n",
              "  .colab-df-spinner {\n",
              "    border: 2px solid var(--fill-color);\n",
              "    border-color: transparent;\n",
              "    border-bottom-color: var(--fill-color);\n",
              "    animation:\n",
              "      spin 1s steps(1) infinite;\n",
              "  }\n",
              "\n",
              "  @keyframes spin {\n",
              "    0% {\n",
              "      border-color: transparent;\n",
              "      border-bottom-color: var(--fill-color);\n",
              "      border-left-color: var(--fill-color);\n",
              "    }\n",
              "    20% {\n",
              "      border-color: transparent;\n",
              "      border-left-color: var(--fill-color);\n",
              "      border-top-color: var(--fill-color);\n",
              "    }\n",
              "    30% {\n",
              "      border-color: transparent;\n",
              "      border-left-color: var(--fill-color);\n",
              "      border-top-color: var(--fill-color);\n",
              "      border-right-color: var(--fill-color);\n",
              "    }\n",
              "    40% {\n",
              "      border-color: transparent;\n",
              "      border-right-color: var(--fill-color);\n",
              "      border-top-color: var(--fill-color);\n",
              "    }\n",
              "    60% {\n",
              "      border-color: transparent;\n",
              "      border-right-color: var(--fill-color);\n",
              "    }\n",
              "    80% {\n",
              "      border-color: transparent;\n",
              "      border-right-color: var(--fill-color);\n",
              "      border-bottom-color: var(--fill-color);\n",
              "    }\n",
              "    90% {\n",
              "      border-color: transparent;\n",
              "      border-bottom-color: var(--fill-color);\n",
              "    }\n",
              "  }\n",
              "</style>\n",
              "\n",
              "  <script>\n",
              "    async function quickchart(key) {\n",
              "      const quickchartButtonEl =\n",
              "        document.querySelector('#' + key + ' button');\n",
              "      quickchartButtonEl.disabled = true;  // To prevent multiple clicks.\n",
              "      quickchartButtonEl.classList.add('colab-df-spinner');\n",
              "      try {\n",
              "        const charts = await google.colab.kernel.invokeFunction(\n",
              "            'suggestCharts', [key], {});\n",
              "      } catch (error) {\n",
              "        console.error('Error during call to suggestCharts:', error);\n",
              "      }\n",
              "      quickchartButtonEl.classList.remove('colab-df-spinner');\n",
              "      quickchartButtonEl.classList.add('colab-df-quickchart-complete');\n",
              "    }\n",
              "    (() => {\n",
              "      let quickchartButtonEl =\n",
              "        document.querySelector('#df-0efe999d-667f-4524-b630-e2e162ee3ce4 button');\n",
              "      quickchartButtonEl.style.display =\n",
              "        google.colab.kernel.accessAllowed ? 'block' : 'none';\n",
              "    })();\n",
              "  </script>\n",
              "</div>\n",
              "    </div>\n",
              "  </div>\n"
            ]
          },
          "metadata": {},
          "execution_count": 44
        }
      ]
    },
    {
      "cell_type": "code",
      "source": [
        "phone_df[phone_df['Brand']=='']"
      ],
      "metadata": {
        "colab": {
          "base_uri": "https://localhost:8080/",
          "height": 81
        },
        "id": "AZk2BI6J6W0W",
        "outputId": "b2b7ed87-dc57-405c-9c34-be7820f89b90"
      },
      "execution_count": 45,
      "outputs": [
        {
          "output_type": "execute_result",
          "data": {
            "text/plain": [
              "                                                 Name  Price Brand\n",
              "98  Refurbished Y9 2019 6.5\" HiSilicon Kirin 710 (...  12000      "
            ],
            "text/html": [
              "\n",
              "  <div id=\"df-857a3316-da2f-4a1a-ac87-6549d554f922\" class=\"colab-df-container\">\n",
              "    <div>\n",
              "<style scoped>\n",
              "    .dataframe tbody tr th:only-of-type {\n",
              "        vertical-align: middle;\n",
              "    }\n",
              "\n",
              "    .dataframe tbody tr th {\n",
              "        vertical-align: top;\n",
              "    }\n",
              "\n",
              "    .dataframe thead th {\n",
              "        text-align: right;\n",
              "    }\n",
              "</style>\n",
              "<table border=\"1\" class=\"dataframe\">\n",
              "  <thead>\n",
              "    <tr style=\"text-align: right;\">\n",
              "      <th></th>\n",
              "      <th>Name</th>\n",
              "      <th>Price</th>\n",
              "      <th>Brand</th>\n",
              "    </tr>\n",
              "  </thead>\n",
              "  <tbody>\n",
              "    <tr>\n",
              "      <th>98</th>\n",
              "      <td>Refurbished Y9 2019 6.5\" HiSilicon Kirin 710 (...</td>\n",
              "      <td>12000</td>\n",
              "      <td></td>\n",
              "    </tr>\n",
              "  </tbody>\n",
              "</table>\n",
              "</div>\n",
              "    <div class=\"colab-df-buttons\">\n",
              "\n",
              "  <div class=\"colab-df-container\">\n",
              "    <button class=\"colab-df-convert\" onclick=\"convertToInteractive('df-857a3316-da2f-4a1a-ac87-6549d554f922')\"\n",
              "            title=\"Convert this dataframe to an interactive table.\"\n",
              "            style=\"display:none;\">\n",
              "\n",
              "  <svg xmlns=\"http://www.w3.org/2000/svg\" height=\"24px\" viewBox=\"0 -960 960 960\">\n",
              "    <path d=\"M120-120v-720h720v720H120Zm60-500h600v-160H180v160Zm220 220h160v-160H400v160Zm0 220h160v-160H400v160ZM180-400h160v-160H180v160Zm440 0h160v-160H620v160ZM180-180h160v-160H180v160Zm440 0h160v-160H620v160Z\"/>\n",
              "  </svg>\n",
              "    </button>\n",
              "\n",
              "  <style>\n",
              "    .colab-df-container {\n",
              "      display:flex;\n",
              "      gap: 12px;\n",
              "    }\n",
              "\n",
              "    .colab-df-convert {\n",
              "      background-color: #E8F0FE;\n",
              "      border: none;\n",
              "      border-radius: 50%;\n",
              "      cursor: pointer;\n",
              "      display: none;\n",
              "      fill: #1967D2;\n",
              "      height: 32px;\n",
              "      padding: 0 0 0 0;\n",
              "      width: 32px;\n",
              "    }\n",
              "\n",
              "    .colab-df-convert:hover {\n",
              "      background-color: #E2EBFA;\n",
              "      box-shadow: 0px 1px 2px rgba(60, 64, 67, 0.3), 0px 1px 3px 1px rgba(60, 64, 67, 0.15);\n",
              "      fill: #174EA6;\n",
              "    }\n",
              "\n",
              "    .colab-df-buttons div {\n",
              "      margin-bottom: 4px;\n",
              "    }\n",
              "\n",
              "    [theme=dark] .colab-df-convert {\n",
              "      background-color: #3B4455;\n",
              "      fill: #D2E3FC;\n",
              "    }\n",
              "\n",
              "    [theme=dark] .colab-df-convert:hover {\n",
              "      background-color: #434B5C;\n",
              "      box-shadow: 0px 1px 3px 1px rgba(0, 0, 0, 0.15);\n",
              "      filter: drop-shadow(0px 1px 2px rgba(0, 0, 0, 0.3));\n",
              "      fill: #FFFFFF;\n",
              "    }\n",
              "  </style>\n",
              "\n",
              "    <script>\n",
              "      const buttonEl =\n",
              "        document.querySelector('#df-857a3316-da2f-4a1a-ac87-6549d554f922 button.colab-df-convert');\n",
              "      buttonEl.style.display =\n",
              "        google.colab.kernel.accessAllowed ? 'block' : 'none';\n",
              "\n",
              "      async function convertToInteractive(key) {\n",
              "        const element = document.querySelector('#df-857a3316-da2f-4a1a-ac87-6549d554f922');\n",
              "        const dataTable =\n",
              "          await google.colab.kernel.invokeFunction('convertToInteractive',\n",
              "                                                    [key], {});\n",
              "        if (!dataTable) return;\n",
              "\n",
              "        const docLinkHtml = 'Like what you see? Visit the ' +\n",
              "          '<a target=\"_blank\" href=https://colab.research.google.com/notebooks/data_table.ipynb>data table notebook</a>'\n",
              "          + ' to learn more about interactive tables.';\n",
              "        element.innerHTML = '';\n",
              "        dataTable['output_type'] = 'display_data';\n",
              "        await google.colab.output.renderOutput(dataTable, element);\n",
              "        const docLink = document.createElement('div');\n",
              "        docLink.innerHTML = docLinkHtml;\n",
              "        element.appendChild(docLink);\n",
              "      }\n",
              "    </script>\n",
              "  </div>\n",
              "\n",
              "    </div>\n",
              "  </div>\n"
            ]
          },
          "metadata": {},
          "execution_count": 45
        }
      ]
    },
    {
      "cell_type": "markdown",
      "source": [
        "* I will be removing empty cells"
      ],
      "metadata": {
        "id": "nPWY6Bdw8COw"
      }
    },
    {
      "cell_type": "code",
      "source": [
        "import numpy as np"
      ],
      "metadata": {
        "id": "SOqVQQWS8BQC"
      },
      "execution_count": 46,
      "outputs": []
    },
    {
      "cell_type": "code",
      "source": [
        "phone_df.replace('',np.nan, inplace=True)"
      ],
      "metadata": {
        "id": "XaVIzM-28U7E"
      },
      "execution_count": 47,
      "outputs": []
    },
    {
      "cell_type": "code",
      "source": [
        "phone_df=phone_df.dropna()"
      ],
      "metadata": {
        "id": "Y5UIwcLr8cez"
      },
      "execution_count": 48,
      "outputs": []
    },
    {
      "cell_type": "markdown",
      "source": [
        "* I will replace plus sign with hyphen."
      ],
      "metadata": {
        "id": "DdR2J3eM8xFo"
      }
    },
    {
      "cell_type": "code",
      "source": [
        "phone_df['Name'] = phone_df['Name'].str.replace('\\s+\\s', '-')\n",
        "phone_df.head()"
      ],
      "metadata": {
        "colab": {
          "base_uri": "https://localhost:8080/",
          "height": 244
        },
        "id": "BdfFqtAK9Btw",
        "outputId": "52f4e6b3-a810-4f95-bd06-32fddeba36f7"
      },
      "execution_count": 49,
      "outputs": [
        {
          "output_type": "stream",
          "name": "stderr",
          "text": [
            "<ipython-input-49-d4ae51fd551e>:1: FutureWarning: The default value of regex will change from True to False in a future version.\n",
            "  phone_df['Name'] = phone_df['Name'].str.replace('\\s+\\s', '-')\n"
          ]
        },
        {
          "output_type": "execute_result",
          "data": {
            "text/plain": [
              "                                                Name  Price    Brand\n",
              "0  XIAOMI Redmi A2+, 6.52\", 3GB RAM + 64GB (Dual ...  11599   xiaomi\n",
              "1  Oppo A17k, 6.56\", 64GB + 3GB RAM (Dual SIM), 5...  13999     oppo\n",
              "2  Nokia C32, 64GB + 4GB (Upto 7GB RAM) 5000MAh, ...  16320    nokia\n",
              "3  Infinix Smart 7 HD, 6.6\", 2GB RAM, 64GB, 5000m...  10999  infinix\n",
              "4  Oppo A17k, 6.56\", 64GB + 3GB RAM (Dual SIM), 5...  13999     oppo"
            ],
            "text/html": [
              "\n",
              "  <div id=\"df-6f94e76c-e6b4-4ffe-b559-f3daf1715b99\" class=\"colab-df-container\">\n",
              "    <div>\n",
              "<style scoped>\n",
              "    .dataframe tbody tr th:only-of-type {\n",
              "        vertical-align: middle;\n",
              "    }\n",
              "\n",
              "    .dataframe tbody tr th {\n",
              "        vertical-align: top;\n",
              "    }\n",
              "\n",
              "    .dataframe thead th {\n",
              "        text-align: right;\n",
              "    }\n",
              "</style>\n",
              "<table border=\"1\" class=\"dataframe\">\n",
              "  <thead>\n",
              "    <tr style=\"text-align: right;\">\n",
              "      <th></th>\n",
              "      <th>Name</th>\n",
              "      <th>Price</th>\n",
              "      <th>Brand</th>\n",
              "    </tr>\n",
              "  </thead>\n",
              "  <tbody>\n",
              "    <tr>\n",
              "      <th>0</th>\n",
              "      <td>XIAOMI Redmi A2+, 6.52\", 3GB RAM + 64GB (Dual ...</td>\n",
              "      <td>11599</td>\n",
              "      <td>xiaomi</td>\n",
              "    </tr>\n",
              "    <tr>\n",
              "      <th>1</th>\n",
              "      <td>Oppo A17k, 6.56\", 64GB + 3GB RAM (Dual SIM), 5...</td>\n",
              "      <td>13999</td>\n",
              "      <td>oppo</td>\n",
              "    </tr>\n",
              "    <tr>\n",
              "      <th>2</th>\n",
              "      <td>Nokia C32, 64GB + 4GB (Upto 7GB RAM) 5000MAh, ...</td>\n",
              "      <td>16320</td>\n",
              "      <td>nokia</td>\n",
              "    </tr>\n",
              "    <tr>\n",
              "      <th>3</th>\n",
              "      <td>Infinix Smart 7 HD, 6.6\", 2GB RAM, 64GB, 5000m...</td>\n",
              "      <td>10999</td>\n",
              "      <td>infinix</td>\n",
              "    </tr>\n",
              "    <tr>\n",
              "      <th>4</th>\n",
              "      <td>Oppo A17k, 6.56\", 64GB + 3GB RAM (Dual SIM), 5...</td>\n",
              "      <td>13999</td>\n",
              "      <td>oppo</td>\n",
              "    </tr>\n",
              "  </tbody>\n",
              "</table>\n",
              "</div>\n",
              "    <div class=\"colab-df-buttons\">\n",
              "\n",
              "  <div class=\"colab-df-container\">\n",
              "    <button class=\"colab-df-convert\" onclick=\"convertToInteractive('df-6f94e76c-e6b4-4ffe-b559-f3daf1715b99')\"\n",
              "            title=\"Convert this dataframe to an interactive table.\"\n",
              "            style=\"display:none;\">\n",
              "\n",
              "  <svg xmlns=\"http://www.w3.org/2000/svg\" height=\"24px\" viewBox=\"0 -960 960 960\">\n",
              "    <path d=\"M120-120v-720h720v720H120Zm60-500h600v-160H180v160Zm220 220h160v-160H400v160Zm0 220h160v-160H400v160ZM180-400h160v-160H180v160Zm440 0h160v-160H620v160ZM180-180h160v-160H180v160Zm440 0h160v-160H620v160Z\"/>\n",
              "  </svg>\n",
              "    </button>\n",
              "\n",
              "  <style>\n",
              "    .colab-df-container {\n",
              "      display:flex;\n",
              "      gap: 12px;\n",
              "    }\n",
              "\n",
              "    .colab-df-convert {\n",
              "      background-color: #E8F0FE;\n",
              "      border: none;\n",
              "      border-radius: 50%;\n",
              "      cursor: pointer;\n",
              "      display: none;\n",
              "      fill: #1967D2;\n",
              "      height: 32px;\n",
              "      padding: 0 0 0 0;\n",
              "      width: 32px;\n",
              "    }\n",
              "\n",
              "    .colab-df-convert:hover {\n",
              "      background-color: #E2EBFA;\n",
              "      box-shadow: 0px 1px 2px rgba(60, 64, 67, 0.3), 0px 1px 3px 1px rgba(60, 64, 67, 0.15);\n",
              "      fill: #174EA6;\n",
              "    }\n",
              "\n",
              "    .colab-df-buttons div {\n",
              "      margin-bottom: 4px;\n",
              "    }\n",
              "\n",
              "    [theme=dark] .colab-df-convert {\n",
              "      background-color: #3B4455;\n",
              "      fill: #D2E3FC;\n",
              "    }\n",
              "\n",
              "    [theme=dark] .colab-df-convert:hover {\n",
              "      background-color: #434B5C;\n",
              "      box-shadow: 0px 1px 3px 1px rgba(0, 0, 0, 0.15);\n",
              "      filter: drop-shadow(0px 1px 2px rgba(0, 0, 0, 0.3));\n",
              "      fill: #FFFFFF;\n",
              "    }\n",
              "  </style>\n",
              "\n",
              "    <script>\n",
              "      const buttonEl =\n",
              "        document.querySelector('#df-6f94e76c-e6b4-4ffe-b559-f3daf1715b99 button.colab-df-convert');\n",
              "      buttonEl.style.display =\n",
              "        google.colab.kernel.accessAllowed ? 'block' : 'none';\n",
              "\n",
              "      async function convertToInteractive(key) {\n",
              "        const element = document.querySelector('#df-6f94e76c-e6b4-4ffe-b559-f3daf1715b99');\n",
              "        const dataTable =\n",
              "          await google.colab.kernel.invokeFunction('convertToInteractive',\n",
              "                                                    [key], {});\n",
              "        if (!dataTable) return;\n",
              "\n",
              "        const docLinkHtml = 'Like what you see? Visit the ' +\n",
              "          '<a target=\"_blank\" href=https://colab.research.google.com/notebooks/data_table.ipynb>data table notebook</a>'\n",
              "          + ' to learn more about interactive tables.';\n",
              "        element.innerHTML = '';\n",
              "        dataTable['output_type'] = 'display_data';\n",
              "        await google.colab.output.renderOutput(dataTable, element);\n",
              "        const docLink = document.createElement('div');\n",
              "        docLink.innerHTML = docLinkHtml;\n",
              "        element.appendChild(docLink);\n",
              "      }\n",
              "    </script>\n",
              "  </div>\n",
              "\n",
              "\n",
              "<div id=\"df-d372f0ec-2978-4195-82af-befcf605d68f\">\n",
              "  <button class=\"colab-df-quickchart\" onclick=\"quickchart('df-d372f0ec-2978-4195-82af-befcf605d68f')\"\n",
              "            title=\"Suggest charts\"\n",
              "            style=\"display:none;\">\n",
              "\n",
              "<svg xmlns=\"http://www.w3.org/2000/svg\" height=\"24px\"viewBox=\"0 0 24 24\"\n",
              "     width=\"24px\">\n",
              "    <g>\n",
              "        <path d=\"M19 3H5c-1.1 0-2 .9-2 2v14c0 1.1.9 2 2 2h14c1.1 0 2-.9 2-2V5c0-1.1-.9-2-2-2zM9 17H7v-7h2v7zm4 0h-2V7h2v10zm4 0h-2v-4h2v4z\"/>\n",
              "    </g>\n",
              "</svg>\n",
              "  </button>\n",
              "\n",
              "<style>\n",
              "  .colab-df-quickchart {\n",
              "      --bg-color: #E8F0FE;\n",
              "      --fill-color: #1967D2;\n",
              "      --hover-bg-color: #E2EBFA;\n",
              "      --hover-fill-color: #174EA6;\n",
              "      --disabled-fill-color: #AAA;\n",
              "      --disabled-bg-color: #DDD;\n",
              "  }\n",
              "\n",
              "  [theme=dark] .colab-df-quickchart {\n",
              "      --bg-color: #3B4455;\n",
              "      --fill-color: #D2E3FC;\n",
              "      --hover-bg-color: #434B5C;\n",
              "      --hover-fill-color: #FFFFFF;\n",
              "      --disabled-bg-color: #3B4455;\n",
              "      --disabled-fill-color: #666;\n",
              "  }\n",
              "\n",
              "  .colab-df-quickchart {\n",
              "    background-color: var(--bg-color);\n",
              "    border: none;\n",
              "    border-radius: 50%;\n",
              "    cursor: pointer;\n",
              "    display: none;\n",
              "    fill: var(--fill-color);\n",
              "    height: 32px;\n",
              "    padding: 0;\n",
              "    width: 32px;\n",
              "  }\n",
              "\n",
              "  .colab-df-quickchart:hover {\n",
              "    background-color: var(--hover-bg-color);\n",
              "    box-shadow: 0 1px 2px rgba(60, 64, 67, 0.3), 0 1px 3px 1px rgba(60, 64, 67, 0.15);\n",
              "    fill: var(--button-hover-fill-color);\n",
              "  }\n",
              "\n",
              "  .colab-df-quickchart-complete:disabled,\n",
              "  .colab-df-quickchart-complete:disabled:hover {\n",
              "    background-color: var(--disabled-bg-color);\n",
              "    fill: var(--disabled-fill-color);\n",
              "    box-shadow: none;\n",
              "  }\n",
              "\n",
              "  .colab-df-spinner {\n",
              "    border: 2px solid var(--fill-color);\n",
              "    border-color: transparent;\n",
              "    border-bottom-color: var(--fill-color);\n",
              "    animation:\n",
              "      spin 1s steps(1) infinite;\n",
              "  }\n",
              "\n",
              "  @keyframes spin {\n",
              "    0% {\n",
              "      border-color: transparent;\n",
              "      border-bottom-color: var(--fill-color);\n",
              "      border-left-color: var(--fill-color);\n",
              "    }\n",
              "    20% {\n",
              "      border-color: transparent;\n",
              "      border-left-color: var(--fill-color);\n",
              "      border-top-color: var(--fill-color);\n",
              "    }\n",
              "    30% {\n",
              "      border-color: transparent;\n",
              "      border-left-color: var(--fill-color);\n",
              "      border-top-color: var(--fill-color);\n",
              "      border-right-color: var(--fill-color);\n",
              "    }\n",
              "    40% {\n",
              "      border-color: transparent;\n",
              "      border-right-color: var(--fill-color);\n",
              "      border-top-color: var(--fill-color);\n",
              "    }\n",
              "    60% {\n",
              "      border-color: transparent;\n",
              "      border-right-color: var(--fill-color);\n",
              "    }\n",
              "    80% {\n",
              "      border-color: transparent;\n",
              "      border-right-color: var(--fill-color);\n",
              "      border-bottom-color: var(--fill-color);\n",
              "    }\n",
              "    90% {\n",
              "      border-color: transparent;\n",
              "      border-bottom-color: var(--fill-color);\n",
              "    }\n",
              "  }\n",
              "</style>\n",
              "\n",
              "  <script>\n",
              "    async function quickchart(key) {\n",
              "      const quickchartButtonEl =\n",
              "        document.querySelector('#' + key + ' button');\n",
              "      quickchartButtonEl.disabled = true;  // To prevent multiple clicks.\n",
              "      quickchartButtonEl.classList.add('colab-df-spinner');\n",
              "      try {\n",
              "        const charts = await google.colab.kernel.invokeFunction(\n",
              "            'suggestCharts', [key], {});\n",
              "      } catch (error) {\n",
              "        console.error('Error during call to suggestCharts:', error);\n",
              "      }\n",
              "      quickchartButtonEl.classList.remove('colab-df-spinner');\n",
              "      quickchartButtonEl.classList.add('colab-df-quickchart-complete');\n",
              "    }\n",
              "    (() => {\n",
              "      let quickchartButtonEl =\n",
              "        document.querySelector('#df-d372f0ec-2978-4195-82af-befcf605d68f button');\n",
              "      quickchartButtonEl.style.display =\n",
              "        google.colab.kernel.accessAllowed ? 'block' : 'none';\n",
              "    })();\n",
              "  </script>\n",
              "</div>\n",
              "    </div>\n",
              "  </div>\n"
            ]
          },
          "metadata": {},
          "execution_count": 49
        }
      ]
    },
    {
      "cell_type": "markdown",
      "source": [
        "* Now I will extarct the RAM size"
      ],
      "metadata": {
        "id": "1NtYeCIR9Vrd"
      }
    },
    {
      "cell_type": "code",
      "source": [
        "words = ['1gb', '2gb', '4gb', '6gb', '8gb', '4ram', '3gb', '1 gb', '6gbram', '12gb', '2G',\n",
        "        '1 ram', '4 gb', '8 gb', '2 gb', '3 gb', '6 gb', '1ram', 'screen2gb', '4gbram',\n",
        "        '[8][+]', '[4][+]', '[6][+]', '[1][\\s][+]', '8gm']\n",
        "\n",
        "\n",
        "def getram2(name):\n",
        "    ram2 = re.findall(r\"\\b({})\\b\".format('|'.join(words)), str(name), flags = re.IGNORECASE)\n",
        "    return ''.join(ram2)"
      ],
      "metadata": {
        "id": "Lof6KNMT9T88"
      },
      "execution_count": 51,
      "outputs": []
    },
    {
      "cell_type": "code",
      "source": [
        "phone_df['RAM'] = phone_df['Name'].apply(getram2)"
      ],
      "metadata": {
        "id": "KFudXc639zUW"
      },
      "execution_count": 52,
      "outputs": []
    },
    {
      "cell_type": "code",
      "source": [
        "phone_df.replace('', np.nan, inplace=True)"
      ],
      "metadata": {
        "id": "R7gVSRs49_Fq"
      },
      "execution_count": 53,
      "outputs": []
    },
    {
      "cell_type": "markdown",
      "source": [
        "* extracting the storage size"
      ],
      "metadata": {
        "id": "AztSboxR-ImT"
      }
    },
    {
      "cell_type": "code",
      "source": [
        "words = ['16gb', '32gb', '64gb', '128gb', '256gb', '128gbrom', '64rom', '[32][+]',\n",
        "         '16 GB', '32 gb', '64 gb', '128 gb', '256 gb', '128g', '[+][64]', '64g[+]']\n",
        "\n",
        "\n",
        "def getrom(name):\n",
        "    rom=re.findall(r\"\\b({})\\b\".format('|'.join(words)), str(name), flags = re.IGNORECASE)\n",
        "    return ''.join(rom)"
      ],
      "metadata": {
        "id": "3zdHWRNx-Ps_"
      },
      "execution_count": 54,
      "outputs": []
    },
    {
      "cell_type": "code",
      "source": [
        "phone_df['ROM'] = phone_df['Name'].apply(getrom)\n",
        "phone_df.replace('', np.nan, inplace=True)"
      ],
      "metadata": {
        "id": "QLvJneOE-iIE"
      },
      "execution_count": 55,
      "outputs": []
    },
    {
      "cell_type": "markdown",
      "source": [
        "* Extracting the battery capacity"
      ],
      "metadata": {
        "id": "VlouFGX3-rZN"
      }
    },
    {
      "cell_type": "code",
      "source": [
        "words = ['5000mah', '4230mah', '4000mah', '4750mah', '4,020mah', '6000mah', '2500mh', '5050 mah', '4680 mah',\n",
        "         '3240mah', '4323mah', '4500mah', '-5000-', '2400mah', '4400mah', '3000mah', '3020mah', '2500mah']\n",
        "def getbattery(name):\n",
        "    battery = re.findall(r\"\\b({})\\b\".format('|'.join(words)), str(name), flags = re.IGNORECASE)\n",
        "    return ''.join(battery)"
      ],
      "metadata": {
        "id": "dHNJydnM-ruS"
      },
      "execution_count": 56,
      "outputs": []
    },
    {
      "cell_type": "code",
      "source": [
        "phone_df['battery_size'] = phone_df['Name'].apply(getbattery)\n",
        "phone_df.replace('', np.nan, inplace=True)"
      ],
      "metadata": {
        "id": "KY6VNROP-z3U"
      },
      "execution_count": 57,
      "outputs": []
    },
    {
      "cell_type": "markdown",
      "source": [
        "* Extracting the Screen size"
      ],
      "metadata": {
        "id": "0VzHoGBA_A7t"
      }
    },
    {
      "cell_type": "code",
      "source": [
        "words = ['6\"', '5\"']\n",
        "\n",
        "def getscreen(name):\n",
        "    screen = re.findall('([0-9]+[.]+[0-9]+|\\d+[\"])', str(name))\n",
        "    return ''.join(screen)"
      ],
      "metadata": {
        "id": "RZCVz_Oo_AGV"
      },
      "execution_count": 58,
      "outputs": []
    },
    {
      "cell_type": "code",
      "source": [
        "phone_df['screnn_size'] = phone_df['Name'].apply(getscreen)\n",
        "phone_df.replace('', np.nan, inplace=True)"
      ],
      "metadata": {
        "id": "-UcWt4Y5_LcG"
      },
      "execution_count": 59,
      "outputs": []
    },
    {
      "cell_type": "code",
      "source": [
        "phone_df.isnull().sum()"
      ],
      "metadata": {
        "colab": {
          "base_uri": "https://localhost:8080/"
        },
        "id": "3KSmV8s8_ghT",
        "outputId": "e0cb0321-0898-4bc3-b40b-82d87d0cd50b"
      },
      "execution_count": 60,
      "outputs": [
        {
          "output_type": "execute_result",
          "data": {
            "text/plain": [
              "Name             0\n",
              "Price            0\n",
              "Brand            0\n",
              "RAM              6\n",
              "ROM              2\n",
              "battery_size    43\n",
              "screnn_size      6\n",
              "dtype: int64"
            ]
          },
          "metadata": {},
          "execution_count": 60
        }
      ]
    },
    {
      "cell_type": "markdown",
      "source": [
        "* Now cleaning the data"
      ],
      "metadata": {
        "id": "XID_ajaS_u5K"
      }
    },
    {
      "cell_type": "code",
      "source": [
        "jumia2=phone_df\n",
        "jumia2.rename(columns={'RAM': 'ram_space2'}, inplace=True)"
      ],
      "metadata": {
        "id": "8TaBs_8c_t65"
      },
      "execution_count": 62,
      "outputs": []
    },
    {
      "cell_type": "markdown",
      "source": [
        "* Removing unnecessary string in columns"
      ],
      "metadata": {
        "id": "o41GO-CW_93k"
      }
    },
    {
      "cell_type": "code",
      "source": [
        "jumia2['ram_space2']=jumia2['ram_space2'].str.replace(\"GB\",'')\n",
        "jumia2['ram_space2']=jumia2['ram_space2'].str.replace(\"gb\",'')\n",
        "jumia2['ram_space2']=jumia2['ram_space2'].str.replace(\"RAM\",'')\n",
        "jumia2['ram_space2']=jumia2['ram_space2'].str.replace(\"+\",'')\n",
        "jumia2['ram_space2']=jumia2['ram_space2'].str.replace(\"GM\",'gb')\n",
        "jumia2['ram_space2']=jumia2['ram_space2'].str.replace(\"G\",'gb')\n",
        "jumia2['ram_space2']=jumia2['ram_space2'].str.replace(\"screen2\",'2gb')\n",
        "jumia2['ram_space2']=jumia2['ram_space2'].str.replace(\"24\",'2gb')\n",
        "jumia2['ram_space2']=jumia2['ram_space2'].str.replace(\"28\",'2gb')\n",
        "jumia2['ram_space2']=jumia2['ram_space2'].str.replace(\"26\",'2gb')\n",
        "jumia2['ram_space2']=jumia2['ram_space2'].str.replace(\"23\",'2gb')\n",
        "jumia2['ram_space2']=jumia2['ram_space2'].str.replace(\"16\",'1gb')\n",
        "jumia2['ram_space2'] =jumia2['ram_space2'].astype(str)+'gb'"
      ],
      "metadata": {
        "colab": {
          "base_uri": "https://localhost:8080/"
        },
        "id": "c8NTUwDg_d92",
        "outputId": "a6be8dd0-f7d7-4d76-fd32-61916ca8b23f"
      },
      "execution_count": 63,
      "outputs": [
        {
          "output_type": "stream",
          "name": "stderr",
          "text": [
            "<ipython-input-63-6b3218537aa1>:4: FutureWarning: The default value of regex will change from True to False in a future version. In addition, single character regular expressions will *not* be treated as literal strings when regex=True.\n",
            "  jumia2['ram_space2']=jumia2['ram_space2'].str.replace(\"+\",'')\n"
          ]
        }
      ]
    },
    {
      "cell_type": "code",
      "source": [
        "jumia2.rename(columns={'ROM': 'storage'}, inplace=True)\n",
        "jumia2['storage'].replace(\" \", \"\", inplace = True)\n",
        "jumia2.rename(columns={'battery_size': 'battery'}, inplace=True)\n",
        "jumia2['battery'].replace(\" \", \"\", inplace = True)\n",
        "jumia2['battery'] = jumia2['battery'].str.lower()\n",
        "jumia2['battery'] = jumia2['battery'].str.replace(\" mah\", 'mah')\n",
        "jumia2['battery'] = jumia2['battery'].str.replace(\"-5000-\", '5000mah')\n",
        "jumia2.rename(columns={'screnn_size': 'screen'}, inplace=True)\n",
        "jumia2['screen'] = jumia2['screen'].str.replace('\"', \"\")\n",
        "jumia2['screen'].replace(\" \", \"\", inplace = True)\n"
      ],
      "metadata": {
        "id": "wH5pduGiAQDr"
      },
      "execution_count": 64,
      "outputs": []
    },
    {
      "cell_type": "markdown",
      "source": [
        "* Now Vizualizing The Dataset"
      ],
      "metadata": {
        "id": "fkYoMwvRBBK7"
      }
    },
    {
      "cell_type": "code",
      "source": [
        "import matplotlib.pyplot as plt"
      ],
      "metadata": {
        "id": "HczeHTTpBARE"
      },
      "execution_count": 65,
      "outputs": []
    },
    {
      "cell_type": "markdown",
      "source": [
        "* The distribution of 'Price'"
      ],
      "metadata": {
        "id": "KQ4bKGf9BR4I"
      }
    },
    {
      "cell_type": "code",
      "source": [
        "plt.figure(figsize=(8, 6))\n",
        "plt.hist(jumia2['Price'], bins=30, color='blue', edgecolor='black')\n",
        "plt.xlabel('Price')\n",
        "plt.ylabel('Frequency')\n",
        "plt.title('Distribution of Prices')\n",
        "plt.show()"
      ],
      "metadata": {
        "colab": {
          "base_uri": "https://localhost:8080/",
          "height": 564
        },
        "id": "l5slqMMRBK8n",
        "outputId": "702f75b2-31e0-47d4-9efe-a4525d4dffa5"
      },
      "execution_count": 66,
      "outputs": [
        {
          "output_type": "display_data",
          "data": {
            "text/plain": [
              "<Figure size 800x600 with 1 Axes>"
            ],
            "image/png": "[encoded data removed]"
          },
          "metadata": {}
        }
      ]
    },
    {
      "cell_type": "code",
      "source": [
        "plt.figure(figsize=(8, 6))\n",
        "plt.boxplot(jumia2['Price'], vert=False)\n",
        "plt.xlabel('Price')\n",
        "plt.title('Distribution of Prices')\n",
        "plt.show()"
      ],
      "metadata": {
        "colab": {
          "base_uri": "https://localhost:8080/",
          "height": 564
        },
        "id": "vlBUtiowBavx",
        "outputId": "556584da-8caf-4f0c-e55e-6dcd5c2984cd"
      },
      "execution_count": 67,
      "outputs": [
        {
          "output_type": "display_data",
          "data": {
            "text/plain": [
              "<Figure size 800x600 with 1 Axes>"
            ],
            "image/png": "[encoded data removed]"
          },
          "metadata": {}
        }
      ]
    },
    {
      "cell_type": "markdown",
      "source": [
        "* The distribution shows that the Price is partially normally distributed, skew to the right."
      ],
      "metadata": {
        "id": "_grElgfVBqTs"
      }
    },
    {
      "cell_type": "markdown",
      "source": [
        "* Bar plot of the most available brands"
      ],
      "metadata": {
        "id": "XJmIfEQKBzRQ"
      }
    },
    {
      "cell_type": "code",
      "source": [
        "brand_counts = jumia2['Brand'].value_counts()\n",
        "top_brands = brand_counts.head(10)\n",
        "plt.figure(figsize=(10, 6))\n",
        "top_brands.plot(kind='bar', color='skyblue')\n",
        "plt.xlabel('Brand')\n",
        "plt.ylabel('Count')\n",
        "plt.title('Top 10 Most Available Brands')\n",
        "plt.xticks(rotation=45)\n",
        "plt.show()"
      ],
      "metadata": {
        "colab": {
          "base_uri": "https://localhost:8080/",
          "height": 604
        },
        "id": "ECSZ_knbBgKH",
        "outputId": "8d30bf30-b397-4a27-e564-b51ed0ce8501"
      },
      "execution_count": 68,
      "outputs": [
        {
          "output_type": "display_data",
          "data": {
            "text/plain": [
              "<Figure size 1000x600 with 1 Axes>"
            ],
            "image/png": "[encoded data removed]"
          },
          "metadata": {}
        }
      ]
    },
    {
      "cell_type": "markdown",
      "source": [
        "* thus shows that most available brand on Jumia Kenya is Tecno phones"
      ],
      "metadata": {
        "id": "oPnaW1BjCG_m"
      }
    },
    {
      "cell_type": "markdown",
      "source": [
        "* The average price by RAM size of a phone using a bar plot"
      ],
      "metadata": {
        "id": "O1QdEZbVCRrb"
      }
    },
    {
      "cell_type": "code",
      "source": [
        "average_price_by_ram = jumia2.groupby('ram_space2')['Price'].mean()\n",
        "\n",
        "average_price_by_ram = average_price_by_ram.sort_values(ascending=False)\n",
        "plt.figure(figsize=(10, 6))\n",
        "average_price_by_ram.plot(kind='bar', color='skyblue')\n",
        "plt.xlabel('RAM Size')\n",
        "plt.ylabel('Average Price')\n",
        "plt.title('Average Price by RAM Size')\n",
        "plt.xticks(rotation=45)\n",
        "plt.show()"
      ],
      "metadata": {
        "colab": {
          "base_uri": "https://localhost:8080/",
          "height": 591
        },
        "id": "fpMPX0TnCYtM",
        "outputId": "3ed7cefb-17c2-4b70-a998-561edb62eccb"
      },
      "execution_count": 69,
      "outputs": [
        {
          "output_type": "display_data",
          "data": {
            "text/plain": [
              "<Figure size 1000x600 with 1 Axes>"
            ],
            "image/png": "[encoded data removed]"
          },
          "metadata": {}
        }
      ]
    },
    {
      "cell_type": "markdown",
      "source": [
        "* This shows that the phones with higher ram are more expensive"
      ],
      "metadata": {
        "id": "s-7ktidPCxcB"
      }
    },
    {
      "cell_type": "markdown",
      "source": [
        "* The distribution of the most common Storage capacity with a bar plot"
      ],
      "metadata": {
        "id": "YB3NmKJ8DNeS"
      }
    },
    {
      "cell_type": "code",
      "source": [
        "rom_counts = jumia2['storage'].value_counts()\n",
        "\n",
        "top_roms = rom_counts.head(10)\n",
        "\n",
        "plt.figure(figsize=(10, 6))\n",
        "top_roms.plot(kind='bar', color='skyblue')\n",
        "plt.xlabel('ROM Size')\n",
        "plt.ylabel('Count')\n",
        "plt.title('Top 10 Most Common ROM Sizes')\n",
        "plt.xticks(rotation=45)\n",
        "plt.show()"
      ],
      "metadata": {
        "colab": {
          "base_uri": "https://localhost:8080/",
          "height": 620
        },
        "id": "Nt7QkzyhCwZw",
        "outputId": "31477b5e-4739-4f29-95d4-97fcbdd2ef76"
      },
      "execution_count": 70,
      "outputs": [
        {
          "output_type": "display_data",
          "data": {
            "text/plain": [
              "<Figure size 1000x600 with 1 Axes>"
            ],
            "image/png": "[encoded data removed]"
          },
          "metadata": {}
        }
      ]
    },
    {
      "cell_type": "markdown",
      "source": [
        "* The Plot of average price of each phone brand."
      ],
      "metadata": {
        "id": "MLxfnrKXER_g"
      }
    },
    {
      "cell_type": "code",
      "source": [
        "average_price_by_brand = jumia2.groupby('Brand')['Price'].mean()\n",
        "average_price_by_brand_sorted = average_price_by_brand.sort_values()\n",
        "\n",
        "plt.figure(figsize=(12, 6))\n",
        "average_price_by_brand_sorted.plot(kind='bar', color='skyblue')\n",
        "plt.xlabel('Brand')\n",
        "plt.ylabel('Average Price')\n",
        "plt.title('Average Price by Phone Brand (Ascending Order)')\n",
        "plt.xticks(rotation=45)\n",
        "plt.show()"
      ],
      "metadata": {
        "colab": {
          "base_uri": "https://localhost:8080/",
          "height": 609
        },
        "id": "H7bG4OISEOHl",
        "outputId": "3405361e-8a76-4bc6-e31f-61a1996c6ba8"
      },
      "execution_count": 71,
      "outputs": [
        {
          "output_type": "display_data",
          "data": {
            "text/plain": [
              "<Figure size 1200x600 with 1 Axes>"
            ],
            "image/png": "[encoded data removed]"
          },
          "metadata": {}
        }
      ]
    },
    {
      "cell_type": "markdown",
      "source": [
        "* Plot of most common battery capacity in phones"
      ],
      "metadata": {
        "id": "zFF8aaE4EyYk"
      }
    },
    {
      "cell_type": "code",
      "source": [
        "battery_counts = jumia2['battery'].value_counts()\n",
        "\n",
        "top_battery_sizes = battery_counts.head(10)\n",
        "\n",
        "\n",
        "plt.figure(figsize=(10, 6))\n",
        "top_battery_sizes.plot(kind='bar', color='skyblue')\n",
        "plt.xlabel('Battery Size')\n",
        "plt.ylabel('Count')\n",
        "plt.title('Top 10 Most Common Battery Sizes')\n",
        "plt.xticks(rotation=45)\n",
        "plt.show()\n"
      ],
      "metadata": {
        "colab": {
          "base_uri": "https://localhost:8080/",
          "height": 607
        },
        "id": "HmnfrxMPFN_d",
        "outputId": "eb33869d-7526-45c1-fb46-0e1bec5fa4e2"
      },
      "execution_count": 73,
      "outputs": [
        {
          "output_type": "display_data",
          "data": {
            "text/plain": [
              "<Figure size 1000x600 with 1 Axes>"
            ],
            "image/png": "[encoded data removed]"
          },
          "metadata": {}
        }
      ]
    }
  ]
}
